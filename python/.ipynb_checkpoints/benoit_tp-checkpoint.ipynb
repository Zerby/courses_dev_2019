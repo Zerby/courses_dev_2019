{
 "cells": [
  {
   "cell_type": "code",
   "execution_count": 163,
   "metadata": {
    "scrolled": false
   },
   "outputs": [
    {
     "name": "stdout",
     "output_type": "stream",
     "text": [
      "QUESTION 1 \n",
      "\n",
      "Les trois diplomes ayant des personnes gagnant le plus sont : \n",
      "\n",
      "     - Doctorat: 88200\n",
      "     - Maîtrise: 84700\n",
      "     - Baccalauréat: 82400\n",
      "\n",
      "Autres diplomes : \n",
      "\n",
      "     - Collégial: 51800\n"
     ]
    }
   ],
   "source": [
    "import csv\n",
    "import numpy\n",
    "from collections import Counter\n",
    "\n",
    "tableau2000 = []\n",
    "niveauEtude = []\n",
    "dictionnary = {}\n",
    "\n",
    "with open(\"./37100035.csv\", \"r\", encoding=\"utf8\") as csvfile:\n",
    "    spamreader = csv.reader(csvfile, delimiter=';', quotechar='\"')\n",
    "    for row in spamreader:\n",
    "        if row[0] == \"2000\":\n",
    "            tableau2000.append(row)\n",
    "            niveauEtude.append(row[3])\n",
    "\n",
    "niveauEtude = numpy.unique(niveauEtude)\n",
    "\n",
    "#Pour chaque niveau d'etude bacalauréat collegial ...\n",
    "                           \n",
    "for etude in niveauEtude:\n",
    "    tmp = []\n",
    "    # Pour chaque ligne 2000\n",
    "    for valeur in tableau2000:\n",
    "        # Si la valeur de la ligne 2000 = \"baccalauréat\" par exemple on l'ajoute au tableau temporaire\n",
    "        if valeur[3] == etude:\n",
    "            tmp.append(valeur[12])\n",
    "    dictionnary[etude] = tmp\n",
    "    \n",
    "etudeParSalaire = {}\n",
    "for value in dictionnary:\n",
    "    etudeParSalaire[value] = max(dictionnary[value])\n",
    "\n",
    "print('QUESTION 1 \\n')\n",
    "print('Les trois diplomes ayant des personnes gagnant le plus sont : \\n')\n",
    "i = 1\n",
    "# Boucle sur le tableau qu'on trie en reverse : Item[1] = la valeur du tableau / 0 = clé\n",
    "for key, value in sorted(etudeParSalaire.items(), key=lambda item: item[1], reverse=True):\n",
    "    if i > 3: \n",
    "        print('\\nAutres diplomes : \\n')\n",
    "        \n",
    "    print(\"     - %s: %s\" % (key, value))\n",
    "    i+= 1"
   ]
  },
  {
   "cell_type": "code",
   "execution_count": null,
   "metadata": {
    "scrolled": true
   },
   "outputs": [],
   "source": []
  }
 ],
 "metadata": {
  "kernelspec": {
   "display_name": "Python 3",
   "language": "python",
   "name": "python3"
  },
  "language_info": {
   "codemirror_mode": {
    "name": "ipython",
    "version": 3
   },
   "file_extension": ".py",
   "mimetype": "text/x-python",
   "name": "python",
   "nbconvert_exporter": "python",
   "pygments_lexer": "ipython3",
   "version": "3.7.3"
  }
 },
 "nbformat": 4,
 "nbformat_minor": 2
}
